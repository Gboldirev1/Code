{
 "cells": [
  {
   "cell_type": "code",
   "execution_count": 15,
   "id": "1576a0a1-0b71-4c65-928c-8e2ac9a2575b",
   "metadata": {},
   "outputs": [
    {
     "name": "stdout",
     "output_type": "stream",
     "text": [
      "Number of vertical bars in the N occurrence: 5792\n"
     ]
    }
   ],
   "source": [
    "import xml.etree.ElementTree as ET\n",
    "\n",
    "def count_vertical_bars(xml_file, N):\n",
    "    # Parse the XML file\n",
    "    tree = ET.parse(xml_file)\n",
    "    root = tree.getroot()\n",
    "    \n",
    "    # Find all occurrences of <Hsp_midline>\n",
    "    midlines = root.findall(\".//Hsp_midline\")\n",
    "    \n",
    "    # Check if N is within the bounds\n",
    "    if N > len(midlines) or N < 1:\n",
    "        raise ValueError(f\"N={N} is out of bounds. There are only {len(midlines)} occurrences.\")\n",
    "    \n",
    "    # Get the Nth occurrence (adjust for zero-based indexing)\n",
    "    midline_text = midlines[N-1].text\n",
    "    \n",
    "    # Count the number of vertical bars '|'\n",
    "    vertical_bar_count = midline_text.count('|')\n",
    "    \n",
    "    return vertical_bar_count\n",
    "\n",
    "# Example usage:\n",
    "# Assuming the XML file is named 'example.xml' and you want to find the number of vertical bars in the N <Hsp_midline> occurrence.\n",
    "vertical_bar_count = count_vertical_bars('example.xml', 7)\n",
    "print(f\"Number of vertical bars in the N occurrence: {vertical_bar_count}\")\n"
   ]
  },
  {
   "cell_type": "code",
   "execution_count": null,
   "id": "8fa9b767-a3e5-4887-b4ad-43f7b3f39246",
   "metadata": {},
   "outputs": [],
   "source": []
  }
 ],
 "metadata": {
  "kernelspec": {
   "display_name": "Python 3 (ipykernel)",
   "language": "python",
   "name": "python3"
  },
  "language_info": {
   "codemirror_mode": {
    "name": "ipython",
    "version": 3
   },
   "file_extension": ".py",
   "mimetype": "text/x-python",
   "name": "python",
   "nbconvert_exporter": "python",
   "pygments_lexer": "ipython3",
   "version": "3.9.6"
  }
 },
 "nbformat": 4,
 "nbformat_minor": 5
}
